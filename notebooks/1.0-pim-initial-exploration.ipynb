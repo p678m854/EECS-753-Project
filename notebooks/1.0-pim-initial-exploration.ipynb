{
 "cells": [
  {
   "cell_type": "markdown",
   "metadata": {},
   "source": [
    "# Initial Exploration\n",
    "\n",
    "This project is based on the original [DeepPiCar](https://github.com/dctian/DeepPiCar) project which simply uses a Raspberry Pi with a camera on a simple radio controlled car. A vary similiar project [DeepPicar-v2](https://github.com/mbechtel2/DeepPicar-v2) done by members of University of Kansas. The DeepPiCar has data as well as the angles embedded in the images while DeepPicar-v2 has modulated the angles to $\\lbrace -30, 0, +30\\rbrace$ degrees on its outputs. Both are using the convolutional neural network architecture of the [DAVE-2](https://developer.nvidia.com/blog/deep-learning-self-driving-cars/) so for now training will only be done on the DeepPiCar data and comparison with their model.\n",
    "\n",
    "## Camera Inputs\n",
    "\n",
    "This section will look at the images being supplied by the DeepPiCar project as well as some image distortions achievable. First thing is to import the required libraries."
   ]
  },
  {
   "cell_type": "code",
   "execution_count": 1,
   "metadata": {},
   "outputs": [],
   "source": [
    "import glob # Regix searching of files\n",
    "import imageio  # loading images in numpy array\n",
    "import matplotlib.pyplot as plt  # Plotting\n",
    "%matplotlib notebook\n",
    "import numpy as np  # Array/Tensros\n",
    "import os  # finding paths\n",
    "import pandas as pd  # Dataframe for viewing\n",
    "import PIL  # Python Imaging Libraryy\n",
    "import sys   # manipulating the path variable"
   ]
  },
  {
   "cell_type": "markdown",
   "metadata": {},
   "source": [
    "With these modules imported add in the location of the training images as well as the location of the DeepPiCar neural network."
   ]
  },
  {
   "cell_type": "code",
   "execution_count": 2,
   "metadata": {},
   "outputs": [],
   "source": [
    "sys.path.append(os.path.abspath('../data/external'))\n",
    "sys.path.append(os.path.abspath('../models/'))"
   ]
  },
  {
   "cell_type": "markdown",
   "metadata": {},
   "source": [
    "With the added locations we can look load the data into a numpy data frame as well as a numpy array of angles."
   ]
  },
  {
   "cell_type": "code",
   "execution_count": 5,
   "metadata": {},
   "outputs": [
    {
     "name": "stdout",
     "output_type": "stream",
     "text": [
      "(240, 320, 3)\n"
     ]
    },
    {
     "data": {
      "text/plain": [
       "'\\nfor f in glob.glob(\"../data/external/*.png\"):\\n    index = int(f.split(\\'_\\')[-2])  # Frame index\\n    angle = float(f.split(\\'_\\')[-1].split(\\'.\\')[0])  # in degrees\\n'"
      ]
     },
     "execution_count": 5,
     "metadata": {},
     "output_type": "execute_result"
    }
   ],
   "source": [
    "# See number of images\n",
    "image_list = glob.glob(\"../data/external/*.png\")  # All images\n",
    "\n",
    "N = len(image_list)\n",
    "\n",
    "\n",
    "\n",
    "\"\"\"\n",
    "for f in :\n",
    "    image = imageio.imread(\"../data/external/video01_000_085.png\")\n",
    "    index = int(f.split('_')[-2])  # Frame index\n",
    "    angle = float(f.split('_')[-1].split('.')[0])  # in degrees\n",
    "\"\"\""
   ]
  }
 ],
 "metadata": {
  "kernelspec": {
   "display_name": "Python 3",
   "language": "python",
   "name": "python3"
  },
  "language_info": {
   "codemirror_mode": {
    "name": "ipython",
    "version": 3
   },
   "file_extension": ".py",
   "mimetype": "text/x-python",
   "name": "python",
   "nbconvert_exporter": "python",
   "pygments_lexer": "ipython3",
   "version": "3.7.1"
  }
 },
 "nbformat": 4,
 "nbformat_minor": 4
}
